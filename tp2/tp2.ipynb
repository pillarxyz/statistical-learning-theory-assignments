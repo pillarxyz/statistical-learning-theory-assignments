{
 "cells": [
  {
   "cell_type": "markdown",
   "id": "bd05e3a6",
   "metadata": {},
   "source": [
    "## Importing libraries"
   ]
  },
  {
   "cell_type": "code",
   "execution_count": 1,
   "id": "f5bf6d1b",
   "metadata": {},
   "outputs": [],
   "source": [
    "import numpy as np\n",
    "import pandas as pd\n",
    "import matplotlib.pyplot as plt\n",
    "from mpl_toolkits.mplot3d import Axes3D\n",
    "from sklearn.model_selection import train_test_split\n",
    "from sklearn.preprocessing import StandardScaler\n",
    "\n",
    "from linear_regression import LinearRegression\n",
    "from logistic_regression import LogisticRegression\n",
    "import random\n",
    "\n",
    "import warnings\n",
    "warnings.filterwarnings(\"ignore\")"
   ]
  },
  {
   "cell_type": "code",
   "execution_count": 2,
   "id": "e9d491c1-ab9c-4ce0-83d0-1324132a95f6",
   "metadata": {},
   "outputs": [],
   "source": [
    "random.seed(1234)"
   ]
  },
  {
   "cell_type": "markdown",
   "id": "8e8fc741",
   "metadata": {},
   "source": [
    "## Accuracy functions for classification and regression"
   ]
  },
  {
   "cell_type": "code",
   "execution_count": 3,
   "id": "a498962d",
   "metadata": {},
   "outputs": [],
   "source": [
    "def rmse_regression(y_true , y_predicted):\n",
    "    sum_error = np.sum((y_predicted - y_true)**2) \n",
    "    return np.sqrt(sum_error/y_true.shape[0])"
   ]
  },
  {
   "cell_type": "code",
   "execution_count": 4,
   "id": "86c6595b",
   "metadata": {},
   "outputs": [],
   "source": [
    "def accuracy_classification(y_true , y_predicted):\n",
    "    n = len(y_true)\n",
    "    S = 0\n",
    "    for i in range(n):     \n",
    "        if y_true[i] == y_predicted[i]:\n",
    "            S += 1        \n",
    "    acc = S / n\n",
    "    return acc"
   ]
  },
  {
   "cell_type": "markdown",
   "id": "cd5e6f8f",
   "metadata": {},
   "source": [
    "# Exercice 1"
   ]
  },
  {
   "cell_type": "code",
   "execution_count": 5,
   "id": "84536527-5b90-4fe4-b242-32c8c0df935e",
   "metadata": {},
   "outputs": [],
   "source": [
    "cars = pd.read_csv('data/cars.csv')\n",
    "X, y = cars[['speed']].values, cars[['dist']].values"
   ]
  },
  {
   "cell_type": "code",
   "execution_count": 6,
   "id": "03386d52-8958-4a48-8d27-f01195bbcd34",
   "metadata": {},
   "outputs": [
    {
     "data": {
      "image/png": "[encoded data removed]",
      "text/plain": [
       "<Figure size 432x288 with 1 Axes>"
      ]
     },
     "metadata": {
      "needs_background": "light"
     },
     "output_type": "display_data"
    }
   ],
   "source": [
    "plt.scatter(X,y)\n",
    "plt.show()"
   ]
  },
  {
   "cell_type": "code",
   "execution_count": 7,
   "id": "53009b17",
   "metadata": {},
   "outputs": [],
   "source": [
    "lr = LinearRegression(learning_rate=0.001)\n",
    "losses = lr.fit(X, y)\n",
    "hyperplane_params = lr.best_params"
   ]
  },
  {
   "cell_type": "code",
   "execution_count": 8,
   "id": "745553f9",
   "metadata": {},
   "outputs": [
    {
     "data": {
      "image/png": "[encoded data removed]",
      "text/plain": [
       "<Figure size 432x288 with 1 Axes>"
      ]
     },
     "metadata": {
      "needs_background": "light"
     },
     "output_type": "display_data"
    }
   ],
   "source": [
    "w = hyperplane_params['w']\n",
    "b = hyperplane_params['b']\n",
    "y_predicted = lr.predict(X)\n",
    "plt.title('Linear regression hyperplane')\n",
    "plt.scatter(X,y)\n",
    "plt.plot(X, y_predicted, c='red')\n",
    "plt.show()"
   ]
  },
  {
   "cell_type": "code",
   "execution_count": 9,
   "id": "a08a3834-91e3-4293-b8db-3409decf82ea",
   "metadata": {},
   "outputs": [
    {
     "name": "stdout",
     "output_type": "stream",
     "text": [
      "the optimal parametres for our linear regression are w = 3.9148221608602354, b = -17.282015359760045\n"
     ]
    }
   ],
   "source": [
    "print(f\"the optimal parametres for our linear regression are w = {w}, b = {b}\")"
   ]
  },
  {
   "cell_type": "code",
   "execution_count": 10,
   "id": "ce79d6e1",
   "metadata": {},
   "outputs": [
    {
     "name": "stdout",
     "output_type": "stream",
     "text": [
      "Linear regression model rmse is: 15.069160042062641\n"
     ]
    }
   ],
   "source": [
    "rmse_score = rmse_regression(y, y_predicted)\n",
    "\n",
    "print(f'Linear regression model rmse is: {rmse_score}')"
   ]
  },
  {
   "cell_type": "code",
   "execution_count": 11,
   "id": "60325fb9",
   "metadata": {},
   "outputs": [
    {
     "data": {
      "image/png": "[encoded data removed]",
      "text/plain": [
       "<Figure size 432x288 with 1 Axes>"
      ]
     },
     "metadata": {
      "needs_background": "light"
     },
     "output_type": "display_data"
    }
   ],
   "source": [
    "plt.title('Empirical error evolution of Regression')\n",
    "plt.plot(losses)\n",
    "plt.show()"
   ]
  },
  {
   "cell_type": "markdown",
   "id": "17a4aa0d",
   "metadata": {},
   "source": [
    "# Exercice 2"
   ]
  },
  {
   "cell_type": "code",
   "execution_count": 12,
   "id": "0d39fffb",
   "metadata": {},
   "outputs": [],
   "source": [
    "data = pd.read_csv('data/binary.csv')"
   ]
  },
  {
   "cell_type": "code",
   "execution_count": 13,
   "id": "9e7f227e",
   "metadata": {},
   "outputs": [],
   "source": [
    "X, y = data.drop(columns=['admit','rank']), data['admit']\n",
    "X_scaled = StandardScaler().fit_transform(X)"
   ]
  },
  {
   "cell_type": "markdown",
   "id": "64cefd77-7eb7-40cb-a9fc-655060b70f25",
   "metadata": {},
   "source": [
    "## Zero Initialization"
   ]
  },
  {
   "cell_type": "code",
   "execution_count": 14,
   "id": "68dff9b2",
   "metadata": {},
   "outputs": [],
   "source": [
    "log_reg = LogisticRegression(learning_rate=0.01)\n",
    "losses = log_reg.fit(X_scaled, y, initializer='zero')"
   ]
  },
  {
   "cell_type": "code",
   "execution_count": 15,
   "id": "fb9440f6-553a-4db3-a179-0fe2fb6e1387",
   "metadata": {},
   "outputs": [
    {
     "name": "stdout",
     "output_type": "stream",
     "text": [
      "the optimal parametres for our linear regression are w = [0.27290648 0.25681509], b = -0.7053993589378452\n"
     ]
    }
   ],
   "source": [
    "hyperplane_params = log_reg.best_params\n",
    "w = hyperplane_params['w']\n",
    "b = hyperplane_params['b']\n",
    "print(f\"the optimal parametres for our linear regression are w = {w}, b = {b}\")"
   ]
  },
  {
   "cell_type": "code",
   "execution_count": 16,
   "id": "b4831419",
   "metadata": {},
   "outputs": [
    {
     "name": "stdout",
     "output_type": "stream",
     "text": [
      "Logistic regresion model emperical loss is: 0.6016761645240982\n"
     ]
    }
   ],
   "source": [
    "print(f'Logistic regresion model emperical loss is: {losses[-1]}')"
   ]
  },
  {
   "cell_type": "code",
   "execution_count": 17,
   "id": "4908b9a0-03de-4423-85b3-9a84b093940c",
   "metadata": {},
   "outputs": [
    {
     "data": {
      "image/png": "[encoded data removed]",
      "text/plain": [
       "<Figure size 432x288 with 1 Axes>"
      ]
     },
     "metadata": {
      "needs_background": "light"
     },
     "output_type": "display_data"
    }
   ],
   "source": [
    "plt.title('Empirical error evolution of Logistic Regression')\n",
    "plt.plot(losses)\n",
    "plt.show()"
   ]
  },
  {
   "cell_type": "markdown",
   "id": "0a75a9fb-efd9-4581-8402-3601c8a864d7",
   "metadata": {
    "tags": []
   },
   "source": [
    "## Random Initialization"
   ]
  },
  {
   "cell_type": "markdown",
   "id": "0f00d04e-549f-46d1-9bed-6c8aa6ca1ee1",
   "metadata": {},
   "source": [
    "### Uniform"
   ]
  },
  {
   "cell_type": "code",
   "execution_count": 18,
   "id": "77ac2c4e-84bc-4306-b213-ed75dc2345e1",
   "metadata": {},
   "outputs": [],
   "source": [
    "log_reg = LogisticRegression(learning_rate=0.01)\n",
    "losses = log_reg.fit(X_scaled, y, initializer='uniform')"
   ]
  },
  {
   "cell_type": "code",
   "execution_count": 19,
   "id": "71a36730-090b-421d-a19a-fa97405f2f1c",
   "metadata": {},
   "outputs": [
    {
     "name": "stdout",
     "output_type": "stream",
     "text": [
      "the optimal parametres for our linear regression are w = [0.2796827  0.28680409], b = -0.6284413143471151\n"
     ]
    }
   ],
   "source": [
    "hyperplane_params = log_reg.best_params\n",
    "w = hyperplane_params['w']\n",
    "b = hyperplane_params['b']\n",
    "print(f\"the optimal parametres for our linear regression are w = {w}, b = {b}\")"
   ]
  },
  {
   "cell_type": "code",
   "execution_count": 20,
   "id": "3c9b0064-d8f2-4de3-8379-18a75aa9d138",
   "metadata": {},
   "outputs": [
    {
     "name": "stdout",
     "output_type": "stream",
     "text": [
      "Logistic regresion model emperical loss is: 0.6038250134124225\n"
     ]
    }
   ],
   "source": [
    "print(f'Logistic regresion model emperical loss is: {losses[-1]}')"
   ]
  },
  {
   "cell_type": "code",
   "execution_count": 21,
   "id": "ae0b059e-1387-4cb8-95ee-86e04813c7e5",
   "metadata": {},
   "outputs": [
    {
     "data": {
      "image/png": "[encoded data removed]",
      "text/plain": [
       "<Figure size 432x288 with 1 Axes>"
      ]
     },
     "metadata": {
      "needs_background": "light"
     },
     "output_type": "display_data"
    }
   ],
   "source": [
    "plt.title('Empirical error evolution of Logistic Regression')\n",
    "plt.plot(losses)\n",
    "plt.show()"
   ]
  },
  {
   "cell_type": "markdown",
   "id": "81620896-536f-4a1a-9e55-e32f3846604d",
   "metadata": {
    "tags": []
   },
   "source": [
    "### Gaussian"
   ]
  },
  {
   "cell_type": "code",
   "execution_count": 22,
   "id": "aaac9c4f-a865-47f1-95ba-bc9d28b0ef02",
   "metadata": {},
   "outputs": [],
   "source": [
    "log_reg = LogisticRegression(learning_rate=0.01)\n",
    "losses = log_reg.fit(X_scaled, y, initializer='gaussian')"
   ]
  },
  {
   "cell_type": "code",
   "execution_count": 23,
   "id": "df825f62-2918-4e36-9a75-94d3568c16f0",
   "metadata": {},
   "outputs": [
    {
     "name": "stdout",
     "output_type": "stream",
     "text": [
      "the optimal parametres for our linear regression are w = [0.34133518 0.24638434], b = -0.6748990781737594\n"
     ]
    }
   ],
   "source": [
    "hyperplane_params = log_reg.best_params\n",
    "w = hyperplane_params['w']\n",
    "b = hyperplane_params['b']\n",
    "print(f\"the optimal parametres for our linear regression are w = {w}, b = {b}\")"
   ]
  },
  {
   "cell_type": "code",
   "execution_count": 24,
   "id": "c43ff6de-c936-4cbe-8f33-b61b96e6d7f2",
   "metadata": {},
   "outputs": [
    {
     "name": "stdout",
     "output_type": "stream",
     "text": [
      "Logistic regresion model emperical loss is: 0.6024740825999758\n"
     ]
    }
   ],
   "source": [
    "print(f'Logistic regresion model emperical loss is: {losses[-1]}')"
   ]
  },
  {
   "cell_type": "code",
   "execution_count": 25,
   "id": "376cd5e3-1cee-451f-9c76-7216e00baece",
   "metadata": {},
   "outputs": [
    {
     "data": {
      "image/png": "[encoded data removed]",
      "text/plain": [
       "<Figure size 432x288 with 1 Axes>"
      ]
     },
     "metadata": {
      "needs_background": "light"
     },
     "output_type": "display_data"
    }
   ],
   "source": [
    "plt.title('Empirical error evolution of Logistic Regression')\n",
    "plt.plot(losses)\n",
    "plt.show()"
   ]
  },
  {
   "cell_type": "markdown",
   "id": "8816e014-a0d6-4621-bf9a-66a737c4eb62",
   "metadata": {},
   "source": [
    "### Logistic"
   ]
  },
  {
   "cell_type": "code",
   "execution_count": 26,
   "id": "d64a8611-177f-4e57-9f5e-44a7a3513c44",
   "metadata": {},
   "outputs": [],
   "source": [
    "log_reg = LogisticRegression(learning_rate=0.01)\n",
    "losses = log_reg.fit(X_scaled, y, initializer='logistic')"
   ]
  },
  {
   "cell_type": "code",
   "execution_count": 27,
   "id": "cf0da526-f03b-47a8-8650-82a0bf7c949a",
   "metadata": {},
   "outputs": [
    {
     "name": "stdout",
     "output_type": "stream",
     "text": [
      "the optimal parametres for our linear regression are w = [0.26307674 0.27680623], b = -0.6422335336032701\n"
     ]
    }
   ],
   "source": [
    "hyperplane_params = log_reg.best_params\n",
    "w = hyperplane_params['w']\n",
    "b = hyperplane_params['b']\n",
    "print(f\"the optimal parametres for our linear regression are w = {w}, b = {b}\")"
   ]
  },
  {
   "cell_type": "code",
   "execution_count": 28,
   "id": "98652400-a8d3-4588-9c4c-87e1c6b0b8df",
   "metadata": {},
   "outputs": [
    {
     "name": "stdout",
     "output_type": "stream",
     "text": [
      "Logistic regresion model emperical loss is: 0.6033785018970931\n"
     ]
    }
   ],
   "source": [
    "print(f'Logistic regresion model emperical loss is: {losses[-1]}')"
   ]
  },
  {
   "cell_type": "code",
   "execution_count": 29,
   "id": "05bd4e12-726b-4c18-8859-50427075ef54",
   "metadata": {},
   "outputs": [
    {
     "data": {
      "image/png": "[encoded data removed]",
      "text/plain": [
       "<Figure size 432x288 with 1 Axes>"
      ]
     },
     "metadata": {
      "needs_background": "light"
     },
     "output_type": "display_data"
    }
   ],
   "source": [
    "plt.title('Empirical error evolution of Logistic Regression')\n",
    "plt.plot(losses)\n",
    "plt.show()"
   ]
  },
  {
   "cell_type": "markdown",
   "id": "f49aa3b8-e928-48d2-8049-561a9f328674",
   "metadata": {},
   "source": [
    "## Adding the rank feature"
   ]
  },
  {
   "cell_type": "code",
   "execution_count": 30,
   "id": "3dd1ffbe-326e-4e31-a0fc-0e19e276a35c",
   "metadata": {},
   "outputs": [],
   "source": [
    "X, y = data.drop(columns=['admit']), data['admit']\n",
    "X_scaled = StandardScaler().fit_transform(X)"
   ]
  },
  {
   "cell_type": "markdown",
   "id": "2c8ed758-cff9-4b74-828f-ea9c12328196",
   "metadata": {},
   "source": [
    "## Zero Initialization"
   ]
  },
  {
   "cell_type": "code",
   "execution_count": 31,
   "id": "fa10d8c7-93af-46cd-81dc-f68eb61d8236",
   "metadata": {},
   "outputs": [],
   "source": [
    "log_reg = LogisticRegression(learning_rate=0.01)\n",
    "losses = log_reg.fit(X_scaled, y, initializer='zero')"
   ]
  },
  {
   "cell_type": "code",
   "execution_count": 32,
   "id": "b6e25da0-580d-46a4-b59a-04f9e7c2aa5c",
   "metadata": {},
   "outputs": [
    {
     "name": "stdout",
     "output_type": "stream",
     "text": [
      "the optimal parametres for our linear regression are w = [ 0.24365161  0.25297565 -0.42942971], b = -0.7222242434396001\n"
     ]
    }
   ],
   "source": [
    "hyperplane_params = log_reg.best_params\n",
    "w = hyperplane_params['w']\n",
    "b = hyperplane_params['b']\n",
    "print(f\"the optimal parametres for our linear regression are w = {w}, b = {b}\")"
   ]
  },
  {
   "cell_type": "code",
   "execution_count": 33,
   "id": "da685c01-3fa1-46a6-ad86-84fe8a4fc5a5",
   "metadata": {},
   "outputs": [
    {
     "name": "stdout",
     "output_type": "stream",
     "text": [
      "Logistic regresion model emperical loss is: 0.576698454443218\n"
     ]
    }
   ],
   "source": [
    "print(f'Logistic regresion model emperical loss is: {losses[-1]}')"
   ]
  },
  {
   "cell_type": "code",
   "execution_count": 34,
   "id": "a5d9896e-d6cd-4d1f-a897-20646ed1c670",
   "metadata": {},
   "outputs": [
    {
     "data": {
      "image/png": "[encoded data removed]",
      "text/plain": [
       "<Figure size 432x288 with 1 Axes>"
      ]
     },
     "metadata": {
      "needs_background": "light"
     },
     "output_type": "display_data"
    }
   ],
   "source": [
    "plt.title('Empirical error evolution of Logistic Regression')\n",
    "plt.plot(losses)\n",
    "plt.show()"
   ]
  },
  {
   "cell_type": "markdown",
   "id": "66a92f08-fefd-40dd-a19a-dbd061e5b42d",
   "metadata": {
    "tags": []
   },
   "source": [
    "## Random Initialization"
   ]
  },
  {
   "cell_type": "markdown",
   "id": "6c890ef4-2ab6-49cc-a495-8caf6fac5c3d",
   "metadata": {},
   "source": [
    "### Uniform"
   ]
  },
  {
   "cell_type": "code",
   "execution_count": 35,
   "id": "f7052b4b-e2bf-437e-88f0-da58b123c29f",
   "metadata": {},
   "outputs": [],
   "source": [
    "log_reg = LogisticRegression(learning_rate=0.01)\n",
    "losses = log_reg.fit(X_scaled, y, initializer='uniform')"
   ]
  },
  {
   "cell_type": "code",
   "execution_count": 36,
   "id": "69770204-7c22-4610-a385-58c8cf25607d",
   "metadata": {},
   "outputs": [
    {
     "name": "stdout",
     "output_type": "stream",
     "text": [
      "the optimal parametres for our linear regression are w = [ 0.38120945  0.16313099 -0.36977195], b = -0.6372429712237924\n"
     ]
    }
   ],
   "source": [
    "hyperplane_params = log_reg.best_params\n",
    "w = hyperplane_params['w']\n",
    "b = hyperplane_params['b']\n",
    "print(f\"the optimal parametres for our linear regression are w = {w}, b = {b}\")"
   ]
  },
  {
   "cell_type": "code",
   "execution_count": 37,
   "id": "14b9adf6-0fc2-48a6-98e2-b012c589cf95",
   "metadata": {},
   "outputs": [
    {
     "name": "stdout",
     "output_type": "stream",
     "text": [
      "Logistic regresion model emperical loss is: 0.5822079998629777\n"
     ]
    }
   ],
   "source": [
    "print(f'Logistic regresion model emperical loss is: {losses[-1]}')"
   ]
  },
  {
   "cell_type": "code",
   "execution_count": 38,
   "id": "699db4cf-5bd6-41b2-b461-371ba846214d",
   "metadata": {},
   "outputs": [
    {
     "data": {
      "image/png": "[encoded data removed]",
      "text/plain": [
       "<Figure size 432x288 with 1 Axes>"
      ]
     },
     "metadata": {
      "needs_background": "light"
     },
     "output_type": "display_data"
    }
   ],
   "source": [
    "plt.title('Empirical error evolution of Logistic Regression')\n",
    "plt.plot(losses)\n",
    "plt.show()"
   ]
  },
  {
   "cell_type": "markdown",
   "id": "0afa848e-6501-411a-808a-558884c20f25",
   "metadata": {},
   "source": [
    "### Gaussian"
   ]
  },
  {
   "cell_type": "code",
   "execution_count": 39,
   "id": "cd791a91-5778-4800-9de1-944ce2a595c7",
   "metadata": {},
   "outputs": [],
   "source": [
    "log_reg = LogisticRegression(learning_rate=0.01)\n",
    "losses = log_reg.fit(X_scaled, y, initializer='gaussian')"
   ]
  },
  {
   "cell_type": "code",
   "execution_count": 40,
   "id": "1948d780-7979-4ae2-9b99-83f5eeee67fc",
   "metadata": {},
   "outputs": [
    {
     "name": "stdout",
     "output_type": "stream",
     "text": [
      "the optimal parametres for our linear regression are w = [ 0.25532476  0.51968158 -0.23020256], b = -0.80447911108939\n"
     ]
    }
   ],
   "source": [
    "hyperplane_params = log_reg.best_params\n",
    "w = hyperplane_params['w']\n",
    "b = hyperplane_params['b']\n",
    "print(f\"the optimal parametres for our linear regression are w = {w}, b = {b}\")"
   ]
  },
  {
   "cell_type": "code",
   "execution_count": 41,
   "id": "39f6ed34-e355-46c0-8a30-5f71c32281ce",
   "metadata": {},
   "outputs": [
    {
     "name": "stdout",
     "output_type": "stream",
     "text": [
      "Logistic regresion model emperical loss is: 0.5872979512498213\n"
     ]
    }
   ],
   "source": [
    "print(f'Logistic regresion model emperical loss is: {losses[-1]}')"
   ]
  },
  {
   "cell_type": "code",
   "execution_count": 42,
   "id": "522d88be-ba16-42e3-b943-f43401e99924",
   "metadata": {},
   "outputs": [
    {
     "data": {
      "image/png": "[encoded data removed]",
      "text/plain": [
       "<Figure size 432x288 with 1 Axes>"
      ]
     },
     "metadata": {
      "needs_background": "light"
     },
     "output_type": "display_data"
    }
   ],
   "source": [
    "plt.title('Empirical error evolution of Logistic Regression')\n",
    "plt.plot(losses)\n",
    "plt.show()"
   ]
  },
  {
   "cell_type": "markdown",
   "id": "704df8c1-13c5-4cba-8b63-18d8be243b08",
   "metadata": {},
   "source": [
    "### Logistic"
   ]
  },
  {
   "cell_type": "code",
   "execution_count": 43,
   "id": "cb5c4ea8-0ef4-492d-90dd-b0b61ee74bd5",
   "metadata": {},
   "outputs": [],
   "source": [
    "log_reg = LogisticRegression(learning_rate=0.01)\n",
    "losses = log_reg.fit(X_scaled, y, initializer='logistic')"
   ]
  },
  {
   "cell_type": "code",
   "execution_count": 44,
   "id": "ebdff5b7-0816-408f-af9e-ac8498231c24",
   "metadata": {},
   "outputs": [
    {
     "name": "stdout",
     "output_type": "stream",
     "text": [
      "the optimal parametres for our linear regression are w = [ 0.2873757   0.31122828 -0.37139439], b = -0.6691739299591093\n"
     ]
    }
   ],
   "source": [
    "hyperplane_params = log_reg.best_params\n",
    "w = hyperplane_params['w']\n",
    "b = hyperplane_params['b']\n",
    "print(f\"the optimal parametres for our linear regression are w = {w}, b = {b}\")"
   ]
  },
  {
   "cell_type": "code",
   "execution_count": 45,
   "id": "c87e2a3c-17c1-40a7-9a42-1d2e0f8612e0",
   "metadata": {},
   "outputs": [
    {
     "name": "stdout",
     "output_type": "stream",
     "text": [
      "Logistic regresion model emperical loss is: 0.579504793089521\n"
     ]
    }
   ],
   "source": [
    "print(f'Logistic regresion model emperical loss is: {losses[-1]}')"
   ]
  },
  {
   "cell_type": "code",
   "execution_count": 46,
   "id": "a504d4bd-084d-45eb-bb91-4220d69e2dd6",
   "metadata": {},
   "outputs": [
    {
     "data": {
      "image/png": "[encoded data removed]",
      "text/plain": [
       "<Figure size 432x288 with 1 Axes>"
      ]
     },
     "metadata": {
      "needs_background": "light"
     },
     "output_type": "display_data"
    }
   ],
   "source": [
    "plt.title('Empirical error evolution of Logistic Regression')\n",
    "plt.plot(losses)\n",
    "plt.show()"
   ]
  },
  {
   "cell_type": "markdown",
   "id": "c9b97f6e",
   "metadata": {},
   "source": [
    "# Exercice 3"
   ]
  },
  {
   "cell_type": "code",
   "execution_count": 47,
   "id": "a627ab68",
   "metadata": {},
   "outputs": [
    {
     "data": {
      "text/html": [
       "<div>\n",
       "<style scoped>\n",
       "    .dataframe tbody tr th:only-of-type {\n",
       "        vertical-align: middle;\n",
       "    }\n",
       "\n",
       "    .dataframe tbody tr th {\n",
       "        vertical-align: top;\n",
       "    }\n",
       "\n",
       "    .dataframe thead th {\n",
       "        text-align: right;\n",
       "    }\n",
       "</style>\n",
       "<table border=\"1\" class=\"dataframe\">\n",
       "  <thead>\n",
       "    <tr style=\"text-align: right;\">\n",
       "      <th></th>\n",
       "      <th>X1</th>\n",
       "      <th>X2</th>\n",
       "      <th>X3</th>\n",
       "      <th>X4</th>\n",
       "      <th>X5</th>\n",
       "    </tr>\n",
       "  </thead>\n",
       "  <tbody>\n",
       "    <tr>\n",
       "      <th>0</th>\n",
       "      <td>8.0</td>\n",
       "      <td>78</td>\n",
       "      <td>284</td>\n",
       "      <td>9.1</td>\n",
       "      <td>109</td>\n",
       "    </tr>\n",
       "    <tr>\n",
       "      <th>1</th>\n",
       "      <td>9.3</td>\n",
       "      <td>68</td>\n",
       "      <td>433</td>\n",
       "      <td>8.7</td>\n",
       "      <td>144</td>\n",
       "    </tr>\n",
       "    <tr>\n",
       "      <th>2</th>\n",
       "      <td>7.5</td>\n",
       "      <td>70</td>\n",
       "      <td>739</td>\n",
       "      <td>7.2</td>\n",
       "      <td>113</td>\n",
       "    </tr>\n",
       "    <tr>\n",
       "      <th>3</th>\n",
       "      <td>8.9</td>\n",
       "      <td>96</td>\n",
       "      <td>1792</td>\n",
       "      <td>8.9</td>\n",
       "      <td>97</td>\n",
       "    </tr>\n",
       "    <tr>\n",
       "      <th>4</th>\n",
       "      <td>10.2</td>\n",
       "      <td>74</td>\n",
       "      <td>477</td>\n",
       "      <td>8.3</td>\n",
       "      <td>206</td>\n",
       "    </tr>\n",
       "  </tbody>\n",
       "</table>\n",
       "</div>"
      ],
      "text/plain": [
       "     X1  X2    X3   X4   X5\n",
       "0   8.0  78   284  9.1  109\n",
       "1   9.3  68   433  8.7  144\n",
       "2   7.5  70   739  7.2  113\n",
       "3   8.9  96  1792  8.9   97\n",
       "4  10.2  74   477  8.3  206"
      ]
     },
     "execution_count": 47,
     "metadata": {},
     "output_type": "execute_result"
    }
   ],
   "source": [
    "data = pd.read_excel('data/pop.xlsx')\n",
    "\n",
    "data.head()"
   ]
  },
  {
   "cell_type": "code",
   "execution_count": 48,
   "id": "3511bb2a",
   "metadata": {},
   "outputs": [],
   "source": [
    "X, y = data.drop(columns=['X1']), data['X1']\n",
    "X = StandardScaler().fit_transform(X)"
   ]
  },
  {
   "cell_type": "code",
   "execution_count": 49,
   "id": "bfa150e5",
   "metadata": {},
   "outputs": [],
   "source": [
    "lr = LinearRegression(learning_rate=0.1, max_iters=50)\n",
    "losses = lr.fit(X, y)\n",
    "hyperplane_params = lr.best_params"
   ]
  },
  {
   "cell_type": "code",
   "execution_count": 50,
   "id": "47694be9-8080-4fac-80f7-efdfcdc4d83f",
   "metadata": {},
   "outputs": [
    {
     "name": "stdout",
     "output_type": "stream",
     "text": [
      "the optimal parametres for our linear regression are w = [ 0.26422039  0.19703577 -0.33955516 -0.44413673], b = 9.25770112780964\n"
     ]
    }
   ],
   "source": [
    "w = hyperplane_params['w']\n",
    "b = hyperplane_params['b']\n",
    "print(f\"the optimal parametres for our linear regression are w = {w}, b = {b}\")"
   ]
  },
  {
   "cell_type": "code",
   "execution_count": 51,
   "id": "4e62089c-a77b-4458-bb44-338cecb92666",
   "metadata": {},
   "outputs": [
    {
     "data": {
      "image/png": "[encoded data removed]",
      "text/plain": [
       "<Figure size 432x288 with 1 Axes>"
      ]
     },
     "metadata": {
      "needs_background": "light"
     },
     "output_type": "display_data"
    }
   ],
   "source": [
    "plt.title('Empirical error evolution of Regression')\n",
    "plt.plot(losses)\n",
    "plt.show()"
   ]
  },
  {
   "cell_type": "code",
   "execution_count": 52,
   "id": "36b38e92-dfac-4e3f-a78d-2bd88d1636d1",
   "metadata": {},
   "outputs": [
    {
     "name": "stdout",
     "output_type": "stream",
     "text": [
      "Linear regression model rmse is: 1.5246691174518756\n"
     ]
    }
   ],
   "source": [
    "y_predicted = lr.predict(X)\n",
    "rmse_score = rmse_regression(y, y_predicted)\n",
    "\n",
    "print(f'Linear regression model rmse is: {rmse_score}')"
   ]
  }
 ],
 "metadata": {
  "kernelspec": {
   "display_name": "Python 3 (ipykernel)",
   "language": "python",
   "name": "python3"
  },
  "language_info": {
   "codemirror_mode": {
    "name": "ipython",
    "version": 3
   },
   "file_extension": ".py",
   "mimetype": "text/x-python",
   "name": "python",
   "nbconvert_exporter": "python",
   "pygments_lexer": "ipython3",
   "version": "3.9.7"
  }
 },
 "nbformat": 4,
 "nbformat_minor": 5
}
